{
 "cells": [
  {
   "cell_type": "code",
   "execution_count": 2,
   "metadata": {
    "collapsed": false
   },
   "outputs": [
    {
     "name": "stdout",
     "output_type": "stream",
     "text": [
      "ge-0/0/1\n"
     ]
    }
   ],
   "source": [
    "interface_name = 'ge-0/0/1'\n",
    "print interface_name"
   ]
  },
  {
   "cell_type": "markdown",
   "metadata": {},
   "source": [
    "\n",
    "### Python List"
   ]
  },
  {
   "cell_type": "code",
   "execution_count": 9,
   "metadata": {
    "collapsed": false
   },
   "outputs": [],
   "source": [
    "protocols = ['mpls', 'bgp', 'isis', 'ospf']"
   ]
  },
  {
   "cell_type": "code",
   "execution_count": 10,
   "metadata": {
    "collapsed": false
   },
   "outputs": [
    {
     "name": "stdout",
     "output_type": "stream",
     "text": [
      "mpls\n",
      "bgp\n",
      "isis\n",
      "ospf\n"
     ]
    }
   ],
   "source": [
    "for prot in protocols:\n",
    "    print prot"
   ]
  },
  {
   "cell_type": "markdown",
   "metadata": {},
   "source": [
    "### Python Dictionary"
   ]
  },
  {
   "cell_type": "code",
   "execution_count": 13,
   "metadata": {
    "collapsed": false
   },
   "outputs": [
    {
     "name": "stdout",
     "output_type": "stream",
     "text": [
      "{'ceo': 'Rami Rahim', 'company': 'Juniper', 'domain': 'Networking'}\n"
     ]
    }
   ],
   "source": [
    "data = {'company': 'Juniper',\n",
    "       'ceo': 'Rami Rahim',\n",
    "       'domain': 'Networking'}\n",
    "\n",
    "print data"
   ]
  },
  {
   "cell_type": "code",
   "execution_count": 14,
   "metadata": {
    "collapsed": false
   },
   "outputs": [
    {
     "name": "stdout",
     "output_type": "stream",
     "text": [
      "ceo  ->  Rami Rahim\n",
      "company  ->  Juniper\n",
      "domain  ->  Networking\n"
     ]
    }
   ],
   "source": [
    "for k,v in data.items():\n",
    "    print k, ' -> ', v"
   ]
  },
  {
   "cell_type": "code",
   "execution_count": 15,
   "metadata": {
    "collapsed": false
   },
   "outputs": [
    {
     "name": "stdout",
     "output_type": "stream",
     "text": [
      "{'vlan_name': '200', 'iface_name': 'ge-0/0/1'}\n"
     ]
    }
   ],
   "source": [
    "data = {'iface_name':'ge-0/0/1', 'vlan_name':'200'}\n",
    "print data"
   ]
  },
  {
   "cell_type": "markdown",
   "metadata": {},
   "source": [
    "# YAML\n",
    "\n",
    "### YAML is a human friendly data serialization standard for all programming languages. It is ideal for storing object tree.\n",
    "\n",
    "### Python programmers are generally big fans of YAML, because of the use of indentation, rather than bracketed syntax, to indicate levels.\n",
    "\n",
    "### A markup language is a language that annotates text so that the computer can manipulate the text.\n"
   ]
  },
  {
   "cell_type": "markdown",
   "metadata": {},
   "source": [
    "```yaml\n",
    "---\n",
    "# An employee record\n",
    "name: Example Developer \n",
    "job: Developer \n",
    "skill: Elite \n",
    "employed: True \n",
    "foods:     \n",
    "    - Apple     \n",
    "    - Orange     \n",
    "    - Strawberry     \n",
    "    - Mango \n",
    "languages:     \n",
    "    ruby: Elite     \n",
    "    python: Elite     \n",
    "    dotnet: Lame\n",
    "```"
   ]
  },
  {
   "cell_type": "markdown",
   "metadata": {},
   "source": [
    "#### Thumb rule to write YAML: Proper indentation. "
   ]
  },
  {
   "cell_type": "markdown",
   "metadata": {},
   "source": [
    "So what are the benefits of YAML:\n",
    "\n",
    "Portable between programming languages:\n",
    "\n",
    "YAML emitters and parsers for many popular languages written in the pure native language itself exist, making it portable in a self-contained manner. \n",
    "YAML representations of application information will be consistent and portable between various programming environments\n",
    "\n",
    "Well known libraries to play with YAML in programming language:\n",
    "C/C++:   \n",
    "- libyaml       \t# \"C\" Fast YAML 1.1 \n",
    "Ruby:   \n",
    "- Psych         \t# libyaml wrapper (in Ruby core for 1.9.2)   \n",
    "- RbYaml        \t# YAML 1.1 (PyYaml Port) binding   \n",
    "Python:   \n",
    "- PyYaml        \t# YAML 1.1, pure python and libyaml binding   \n",
    "- PySyck        \t# YAML 1.0, syck binding   \n",
    "Java:   \n",
    "- JvYaml        \t# Java port of RbYaml   \n",
    "Perl Modules:   \n",
    "- YAML          \t# Pure Perl YAML Module   \n",
    "- YAML::Syck    \t# Binding to libsyck   \n",
    "- PlYaml        \t# Perl port of PyYaml implementation\n",
    "PHP:   \n",
    "- php-yaml      \t# libyaml bindings (YAML 1.1)   \n",
    "- syck          \t# syck bindings (YAML 1.0)   \n"
   ]
  },
  {
   "cell_type": "markdown",
   "metadata": {},
   "source": [
    "### Another example"
   ]
  },
  {
   "cell_type": "markdown",
   "metadata": {},
   "source": [
    "```yaml\n",
    "---\n",
    "name: Juniper Networks \n",
    "CEO: Rami Rahim\n",
    "Headquarter: Sunnyvale\n",
    "Development:     \n",
    "    - Sunnyvale\n",
    "    - Bangalore\n",
    "    - Beijing\n",
    "Sales:     \n",
    "    - Sydeny\n",
    "    - Mumbai\n",
    "```"
   ]
  },
  {
   "cell_type": "code",
   "execution_count": 16,
   "metadata": {
    "collapsed": false
   },
   "outputs": [
    {
     "data": {
      "text/plain": [
       "{'CEO': 'Rami Rahim',\n",
       " 'Development': ['Sunnyvale', 'Bangalore', 'Beijing'],\n",
       " 'Headquarter': 'Sunnyvale',\n",
       " 'Sales': ['Sydeny', 'Mumbai'],\n",
       " 'name': 'Juniper Networks'}"
      ]
     },
     "execution_count": 16,
     "metadata": {},
     "output_type": "execute_result"
    }
   ],
   "source": [
    "import yaml\n",
    "\n",
    "data = \"\"\"\n",
    "---\n",
    "name: Juniper Networks \n",
    "CEO: Rami Rahim\n",
    "Headquarter: Sunnyvale\n",
    "Development:     \n",
    "    - Sunnyvale\n",
    "    - Bangalore\n",
    "    - Beijing\n",
    "Sales:     \n",
    "    - Sydeny\n",
    "    - Mumbai\n",
    "\"\"\"\n",
    "\n",
    "yaml.load(data)"
   ]
  },
  {
   "cell_type": "code",
   "execution_count": 20,
   "metadata": {
    "collapsed": false
   },
   "outputs": [
    {
     "data": {
      "text/plain": [
       "[['pineapple', 'coconut'], ['umbrella', 'raincoat']]"
      ]
     },
     "execution_count": 20,
     "metadata": {},
     "output_type": "execute_result"
    }
   ],
   "source": [
    "data = \"\"\"\n",
    "---\n",
    "-\n",
    "    - pineapple   \n",
    "    - coconut \n",
    "-\n",
    "    - umbrella   \n",
    "    - raincoat\n",
    "\"\"\"\n",
    "yaml.load(data)"
   ]
  },
  {
   "cell_type": "code",
   "execution_count": 21,
   "metadata": {
    "collapsed": false
   },
   "outputs": [
    {
     "data": {
      "text/plain": [
       "{'Joey': {'age': 22, 'sex': 'M'}, 'Laura': {'age': 24, 'sex': 'F'}}"
      ]
     },
     "execution_count": 21,
     "metadata": {},
     "output_type": "execute_result"
    }
   ],
   "source": [
    "\n",
    "data = \"\"\"\n",
    "---\n",
    "Joey:   \n",
    "    age: 22   \n",
    "    sex: M \n",
    "Laura:   \n",
    "    age: 24   \n",
    "    sex: F\n",
    "\"\"\"\n",
    "yaml.load(data)"
   ]
  },
  {
   "cell_type": "code",
   "execution_count": 23,
   "metadata": {
    "collapsed": false
   },
   "outputs": [
    {
     "data": {
      "text/plain": [
       "{'bill-to': {'city': 'East Centerville',\n",
       "  'state': 'KS',\n",
       "  'street': '123 Tornado Alley\\nSuite 16\\n'},\n",
       " 'customer': {'family_name': 'Gale', 'first_name': 'Dorothy'},\n",
       " 'date': datetime.date(2012, 8, 6),\n",
       " 'items': [{'descrip': 'Water Bucket (Filled)',\n",
       "   'part_no': 'A4786',\n",
       "   'price': 1.47,\n",
       "   'quantity': 4},\n",
       "  {'descrip': 'High Heeled \"Ruby\" Slippers',\n",
       "   'part_no': 'E1628',\n",
       "   'price': 133.7,\n",
       "   'quantity': 1,\n",
       "   'size': 8}],\n",
       " 'receipt': 'Oz-Ware Purchase Invoice',\n",
       " 'ship-to': {'city': 'East Centerville',\n",
       "  'state': 'KS',\n",
       "  'street': '123 Tornado Alley\\nSuite 16\\n'},\n",
       " 'specialDelivery': 'Follow the Yellow Brick\\nRoad to the Emerald City.\\nPay no attention to the\\nman behind the curtain.\\n'}"
      ]
     },
     "execution_count": 23,
     "metadata": {},
     "output_type": "execute_result"
    }
   ],
   "source": [
    "data = \"\"\"\n",
    "---\n",
    "receipt:     Oz-Ware Purchase Invoice\n",
    "date:        2012-08-06\n",
    "customer:\n",
    "    first_name:   Dorothy\n",
    "    family_name:  Gale\n",
    "\n",
    "items:\n",
    "    - part_no:   A4786\n",
    "      descrip:   Water Bucket (Filled)\n",
    "      price:     1.47\n",
    "      quantity:  4\n",
    "\n",
    "    - part_no:   E1628\n",
    "      descrip:   High Heeled \"Ruby\" Slippers\n",
    "      size:      8\n",
    "      price:     133.7\n",
    "      quantity:  1\n",
    "\n",
    "bill-to:  &id001\n",
    "    street: |\n",
    "            123 Tornado Alley\n",
    "            Suite 16\n",
    "    city:   East Centerville\n",
    "    state:  KS\n",
    "\n",
    "ship-to:  *id001\n",
    "\n",
    "specialDelivery:  >\n",
    "    Follow the Yellow Brick\n",
    "    Road to the Emerald City.\n",
    "    Pay no attention to the\n",
    "    man behind the curtain.\n",
    "...\n",
    "\"\"\"\n",
    "yaml.load(data)"
   ]
  },
  {
   "cell_type": "code",
   "execution_count": 25,
   "metadata": {
    "collapsed": false
   },
   "outputs": [
    {
     "data": {
      "text/plain": [
       "[{'step': {'instrument': 'Lasik 2000',\n",
       "   'pulseDuration': 12,\n",
       "   'pulseEnergy': 5.4,\n",
       "   'repetition': 1000,\n",
       "   'spotSize': '1mm'}},\n",
       " {'step': {'instrument': 'Lasik 2000',\n",
       "   'pulseDuration': 10,\n",
       "   'pulseEnergy': 5.0,\n",
       "   'repetition': 500,\n",
       "   'spotSize': '2mm'}},\n",
       " {'step': {'instrument': 'Lasik 2000',\n",
       "   'pulseDuration': 12,\n",
       "   'pulseEnergy': 5.4,\n",
       "   'repetition': 1000,\n",
       "   'spotSize': '1mm'}},\n",
       " {'step': {'instrument': 'Lasik 2000',\n",
       "   'pulseDuration': 10,\n",
       "   'pulseEnergy': 5.0,\n",
       "   'repetition': 500,\n",
       "   'spotSize': '2mm'}},\n",
       " {'step': {'instrument': 'Lasik 2000',\n",
       "   'pulseDuration': 12,\n",
       "   'pulseEnergy': 5.4,\n",
       "   'repetition': 1000,\n",
       "   'spotSize': '2mm'}}]"
      ]
     },
     "execution_count": 25,
     "metadata": {},
     "output_type": "execute_result"
    }
   ],
   "source": [
    "data = \"\"\"\n",
    "---\n",
    "- step:  &id001                  # defines anchor label &id001\n",
    "    instrument:      Lasik 2000\n",
    "    pulseEnergy:     5.4\n",
    "    pulseDuration:   12\n",
    "    repetition:      1000\n",
    "    spotSize:        1mm\n",
    "\n",
    "- step: &id002\n",
    "    instrument:      Lasik 2000\n",
    "    pulseEnergy:     5.0\n",
    "    pulseDuration:   10\n",
    "    repetition:      500\n",
    "    spotSize:        2mm\n",
    "- step: *id001                   # refers to the first step (with anchor &id001)\n",
    "- step: *id002                   # refers to the second step\n",
    "- step: \n",
    "    <<: *id001\n",
    "    spotSize: 2mm             # redefines just this key, refers rest from &id001\n",
    "\"\"\"\n",
    "yaml.load(data)"
   ]
  },
  {
   "cell_type": "code",
   "execution_count": 27,
   "metadata": {
    "collapsed": false
   },
   "outputs": [],
   "source": [
    "yaml.parse?"
   ]
  },
  {
   "cell_type": "markdown",
   "metadata": {},
   "source": [
    "## Jinja2"
   ]
  },
  {
   "cell_type": "markdown",
   "metadata": {},
   "source": [
    "### Junos sample config"
   ]
  },
  {
   "cell_type": "code",
   "execution_count": 28,
   "metadata": {
    "collapsed": false
   },
   "outputs": [
    {
     "name": "stdout",
     "output_type": "stream",
     "text": [
      "/Users/nitinkr/Coding/pyez-examples/templates\n"
     ]
    }
   ],
   "source": [
    "import os\n",
    "cwd = os.getcwd()\n",
    "print cwd"
   ]
  },
  {
   "cell_type": "code",
   "execution_count": 31,
   "metadata": {
    "collapsed": false
   },
   "outputs": [
    {
     "name": "stdout",
     "output_type": "stream",
     "text": [
      "Hello xyz!!\n"
     ]
    }
   ],
   "source": [
    "from jinja2 import Template\n",
    "t = Template(\"Hello {{ data }}!!\")\n",
    "print t.render(data='xyz')"
   ]
  },
  {
   "cell_type": "markdown",
   "metadata": {},
   "source": [
    "```text\n",
    "interfaces {\n",
    "    interface ge-0/0/1 {\n",
    "        unit 0 {\n",
    "            family ethernet-switching {\n",
    "                port-mode access;\n",
    "                replace:\n",
    "                vlan {\n",
    "                    member 200;\n",
    "               }\n",
    "           }\n",
    "       }\n",
    "    } \n",
    "}\n",
    "```\n"
   ]
  },
  {
   "cell_type": "markdown",
   "metadata": {},
   "source": [
    "### jinja2 template"
   ]
  },
  {
   "cell_type": "markdown",
   "metadata": {},
   "source": [
    "```jinja2\n",
    "interfaces {\n",
    "    interface {{ iface_name }} {\n",
    "        unit 0 {\n",
    "            family ethernet-switching {\n",
    "                port-mode access;\n",
    "                replace:\n",
    "                vlan {\n",
    "                    member {{ vlan_name }};\n",
    "               }\n",
    "           }\n",
    "       }\n",
    "    } \n",
    "}\n",
    "```\n"
   ]
  },
  {
   "cell_type": "code",
   "execution_count": 33,
   "metadata": {
    "collapsed": false
   },
   "outputs": [
    {
     "name": "stdout",
     "output_type": "stream",
     "text": [
      "interfaces {\n",
      "    interface ge-0/0/2 {\n",
      "        unit 0 {\n",
      "            family ethernet-switching {\n",
      "                port-mode access;\n",
      "                replace:\n",
      "                vlan {\n",
      "                    member 200;\n",
      "               }\n",
      "           }\n",
      "       }\n",
      "    } \n",
      "}\n"
     ]
    }
   ],
   "source": [
    "import jinja2\n",
    "template = \"\"\"interfaces {\n",
    "    interface {{ iface_name }} {\n",
    "        unit 0 {\n",
    "            family ethernet-switching {\n",
    "                port-mode access;\n",
    "                replace:\n",
    "                vlan {\n",
    "                    member {{ vlan_name }};\n",
    "               }\n",
    "           }\n",
    "       }\n",
    "    } \n",
    "}\"\"\"\n",
    "tmpl = jinja2.Template(template)\n",
    "conf = tmpl.render(iface_name='ge-0/0/2', vlan_name='200')\n",
    "print conf"
   ]
  },
  {
   "cell_type": "code",
   "execution_count": 34,
   "metadata": {
    "collapsed": false
   },
   "outputs": [
    {
     "name": "stdout",
     "output_type": "stream",
     "text": [
      "interfaces {\n",
      "    interface ge-0/0/1 {\n",
      "        unit 0 {\n",
      "            family ethernet-switching {\n",
      "                port-mode access;\n",
      "                replace:\n",
      "                vlan {\n",
      "                    member 200;\n",
      "               }\n",
      "           }\n",
      "       }\n",
      "    } \n",
      "}\n"
     ]
    }
   ],
   "source": [
    "import jinja2\n",
    "template = \"\"\"interfaces {\n",
    "    interface {{ iface_name }} {\n",
    "        unit 0 {\n",
    "            family ethernet-switching {\n",
    "                port-mode access;\n",
    "                replace:\n",
    "                vlan {\n",
    "                    member {{ vlan_name }};\n",
    "               }\n",
    "           }\n",
    "       }\n",
    "    } \n",
    "}\"\"\"\n",
    "tmpl = jinja2.Template(template)\n",
    "conf = tmpl.render({'iface_name':'ge-0/0/1', 'vlan_name':'200'})\n",
    "print conf"
   ]
  },
  {
   "cell_type": "code",
   "execution_count": 35,
   "metadata": {
    "collapsed": false
   },
   "outputs": [
    {
     "name": "stdout",
     "output_type": "stream",
     "text": [
      "interfaces {\n",
      "    interface ge-0/0/5 {\n",
      "        unit 0 {\n",
      "            family ethernet-switching {\n",
      "                port-mode access;\n",
      "                replace:\n",
      "                vlan {\n",
      "                    member 300;\n",
      "               }\n",
      "           }\n",
      "       }\n",
      "    } \n",
      "}\n"
     ]
    }
   ],
   "source": [
    "import jinja2\n",
    "\n",
    "# tmpl = jinja2.Template(open('/Users/nitinkr/demos/PyEZ/templates/1_temp.j2').read())\n",
    "\n",
    "loader = jinja2.FileSystemLoader(cwd)\n",
    "jenv = jinja2.Environment(loader=loader, trim_blocks=True, lstrip_blocks=True)\n",
    "tmpl = jenv.get_template('1_temp.j2')\n",
    "conf = tmpl.render(iface_name='ge-0/0/5', vlan_name='300')\n",
    "print conf"
   ]
  },
  {
   "cell_type": "markdown",
   "metadata": {},
   "source": [
    "#### To know more about trim_blocks, lstrip_blocks\n",
    "\n",
    "http://jinja.pocoo.org/docs/dev/templates/#whitespace-control"
   ]
  },
  {
   "cell_type": "code",
   "execution_count": null,
   "metadata": {
    "collapsed": false
   },
   "outputs": [],
   "source": [
    "jinja2.Environment?"
   ]
  },
  {
   "cell_type": "markdown",
   "metadata": {},
   "source": [
    "### Loop inside Jinja Template\n",
    "\n",
    "```jinja2\n",
    "interfaces {\n",
    "    {% for item in interfaces %}\n",
    "    {{ item }} {\n",
    "        unit 0 {\n",
    "            family ethernet-switching {\n",
    "                port-mode access;\n",
    "                replace:\n",
    "                vlan {\n",
    "                    member {{ vlan_name }};\n",
    "               }\n",
    "           }\n",
    "       } \n",
    "    } {% endfor %}    \n",
    "}\n",
    "```"
   ]
  },
  {
   "cell_type": "code",
   "execution_count": 37,
   "metadata": {
    "collapsed": false
   },
   "outputs": [
    {
     "name": "stdout",
     "output_type": "stream",
     "text": [
      "interfaces {\n",
      "    \n",
      "    ge-0/0/1 {\n",
      "        unit 0 {\n",
      "            family ethernet-switching {\n",
      "                port-mode access;\n",
      "                replace:\n",
      "                vlan {\n",
      "                    member 300;\n",
      "               }\n",
      "           }\n",
      "       } \n",
      "    } \n",
      "    ge-0/0/2 {\n",
      "        unit 0 {\n",
      "            family ethernet-switching {\n",
      "                port-mode access;\n",
      "                replace:\n",
      "                vlan {\n",
      "                    member 300;\n",
      "               }\n",
      "           }\n",
      "       } \n",
      "    } \n",
      "    ge-0/2/1 {\n",
      "        unit 0 {\n",
      "            family ethernet-switching {\n",
      "                port-mode access;\n",
      "                replace:\n",
      "                vlan {\n",
      "                    member 300;\n",
      "               }\n",
      "           }\n",
      "       } \n",
      "    } \n",
      "    ge-0/2/2 {\n",
      "        unit 0 {\n",
      "            family ethernet-switching {\n",
      "                port-mode access;\n",
      "                replace:\n",
      "                vlan {\n",
      "                    member 300;\n",
      "               }\n",
      "           }\n",
      "       } \n",
      "    }     \n",
      "}\n"
     ]
    }
   ],
   "source": [
    "import jinja2\n",
    "template = \"\"\"interfaces {\n",
    "    {% for item in interfaces %}\n",
    "    {{ item }} {\n",
    "        unit 0 {\n",
    "            family ethernet-switching {\n",
    "                port-mode access;\n",
    "                replace:\n",
    "                vlan {\n",
    "                    member {{ vlan_name }};\n",
    "               }\n",
    "           }\n",
    "       } \n",
    "    } {% endfor %}    \n",
    "}\"\"\"\n",
    "tmpl = jinja2.Template(template)\n",
    "conf = tmpl.render(interfaces=['ge-0/0/1', 'ge-0/0/2', 'ge-0/2/1', 'ge-0/2/2'], vlan_name='300')\n",
    "print conf"
   ]
  },
  {
   "cell_type": "markdown",
   "metadata": {},
   "source": [
    "### Filter in Template"
   ]
  },
  {
   "cell_type": "code",
   "execution_count": null,
   "metadata": {
    "collapsed": false
   },
   "outputs": [],
   "source": [
    "loader = jinja2.FileSystemLoader(cwd)\n",
    "jenv = jinja2.Environment(loader=loader, trim_blocks=True, lstrip_blocks=True)"
   ]
  },
  {
   "cell_type": "code",
   "execution_count": 44,
   "metadata": {
    "collapsed": false
   },
   "outputs": [
    {
     "name": "stdout",
     "output_type": "stream",
     "text": [
      "interfaces {\n",
      "    \n",
      "    ge-0/0/1 {\n",
      "        unit 0 {\n",
      "            family ethernet-switching {\n",
      "                port-mode ACCESS;\n",
      "                replace:\n",
      "                vlan {\n",
      "                    member 300;\n",
      "               }\n",
      "           }\n",
      "       } \n",
      "    } \n",
      "    ge-0/0/2 {\n",
      "        unit 0 {\n",
      "            family ethernet-switching {\n",
      "                port-mode ACCESS;\n",
      "                replace:\n",
      "                vlan {\n",
      "                    member 300;\n",
      "               }\n",
      "           }\n",
      "       } \n",
      "    }     \n",
      "}\n"
     ]
    }
   ],
   "source": [
    "import jinja2\n",
    "template = \"\"\"interfaces {\n",
    "    {% for item in interfaces %}\n",
    "    {{ item }} {\n",
    "        unit 0 {\n",
    "            family ethernet-switching {\n",
    "                port-mode {{ mode | upper }};\n",
    "                replace:\n",
    "                vlan {\n",
    "                    member {{ vlan_name }};\n",
    "               }\n",
    "           }\n",
    "       } \n",
    "    } {% endfor %}    \n",
    "}\"\"\"\n",
    "tmpl = jinja2.Template(template)\n",
    "conf = tmpl.render(interfaces=['ge-0/0/1', 'ge-0/0/2'], vlan_name='300', mode='access')\n",
    "print conf"
   ]
  },
  {
   "cell_type": "code",
   "execution_count": null,
   "metadata": {
    "collapsed": false
   },
   "outputs": [],
   "source": [
    "jenv.filters"
   ]
  },
  {
   "cell_type": "code",
   "execution_count": 45,
   "metadata": {
    "collapsed": false
   },
   "outputs": [
    {
     "name": "stdout",
     "output_type": "stream",
     "text": [
      "ge-0/0/0\n",
      "ge-0/0/1\n",
      "ge-0/0/2\n",
      "ge-0/0/3\n",
      "ge-0/0/4\n",
      "ge-0/0/5\n"
     ]
    }
   ],
   "source": [
    "from bracket_expansion import bracket_expansion\n",
    "jenv.filters['bracket_expansion']=bracket_expansion\n",
    "for i in bracket_expansion('ge-0/0/[0-5]'):\n",
    "    print i"
   ]
  },
  {
   "cell_type": "code",
   "execution_count": 46,
   "metadata": {
    "collapsed": false
   },
   "outputs": [
    {
     "name": "stdout",
     "output_type": "stream",
     "text": [
      "interfaces {\n",
      "    ge-0/0/0 {\n",
      "        unit 0 {\n",
      "            family ethernet-switching {\n",
      "                port-mode access;\n",
      "                replace:\n",
      "                vlan {\n",
      "                    member 300;\n",
      "               }\n",
      "           }\n",
      "       } \n",
      "    }     ge-0/0/1 {\n",
      "        unit 0 {\n",
      "            family ethernet-switching {\n",
      "                port-mode access;\n",
      "                replace:\n",
      "                vlan {\n",
      "                    member 300;\n",
      "               }\n",
      "           }\n",
      "       } \n",
      "    }     ge-0/0/2 {\n",
      "        unit 0 {\n",
      "            family ethernet-switching {\n",
      "                port-mode access;\n",
      "                replace:\n",
      "                vlan {\n",
      "                    member 300;\n",
      "               }\n",
      "           }\n",
      "       } \n",
      "    }     ge-0/0/3 {\n",
      "        unit 0 {\n",
      "            family ethernet-switching {\n",
      "                port-mode access;\n",
      "                replace:\n",
      "                vlan {\n",
      "                    member 300;\n",
      "               }\n",
      "           }\n",
      "       } \n",
      "    }     ge-0/0/4 {\n",
      "        unit 0 {\n",
      "            family ethernet-switching {\n",
      "                port-mode access;\n",
      "                replace:\n",
      "                vlan {\n",
      "                    member 300;\n",
      "               }\n",
      "           }\n",
      "       } \n",
      "    }     ge-0/0/5 {\n",
      "        unit 0 {\n",
      "            family ethernet-switching {\n",
      "                port-mode access;\n",
      "                replace:\n",
      "                vlan {\n",
      "                    member 300;\n",
      "               }\n",
      "           }\n",
      "       } \n",
      "    }     ge-0/0/6 {\n",
      "        unit 0 {\n",
      "            family ethernet-switching {\n",
      "                port-mode access;\n",
      "                replace:\n",
      "                vlan {\n",
      "                    member 300;\n",
      "               }\n",
      "           }\n",
      "       } \n",
      "    }     ge-0/0/7 {\n",
      "        unit 0 {\n",
      "            family ethernet-switching {\n",
      "                port-mode access;\n",
      "                replace:\n",
      "                vlan {\n",
      "                    member 300;\n",
      "               }\n",
      "           }\n",
      "       } \n",
      "    }     ge-0/0/8 {\n",
      "        unit 0 {\n",
      "            family ethernet-switching {\n",
      "                port-mode access;\n",
      "                replace:\n",
      "                vlan {\n",
      "                    member 300;\n",
      "               }\n",
      "           }\n",
      "       } \n",
      "    }     ge-0/0/9 {\n",
      "        unit 0 {\n",
      "            family ethernet-switching {\n",
      "                port-mode access;\n",
      "                replace:\n",
      "                vlan {\n",
      "                    member 300;\n",
      "               }\n",
      "           }\n",
      "       } \n",
      "    }     ge-0/0/10 {\n",
      "        unit 0 {\n",
      "            family ethernet-switching {\n",
      "                port-mode access;\n",
      "                replace:\n",
      "                vlan {\n",
      "                    member 300;\n",
      "               }\n",
      "           }\n",
      "       } \n",
      "    }     \n",
      "}\n"
     ]
    }
   ],
   "source": [
    "import jinja2\n",
    "template = \"\"\"interfaces {\n",
    "    {% for item in iface_pattern | bracket_expansion %}\n",
    "    {{ item }} {\n",
    "        unit 0 {\n",
    "            family ethernet-switching {\n",
    "                port-mode access;\n",
    "                replace:\n",
    "                vlan {\n",
    "                    member {{ vlan_name }};\n",
    "               }\n",
    "           }\n",
    "       } \n",
    "    } {% endfor %}    \n",
    "}\"\"\"\n",
    "loader = jinja2.FileSystemLoader(cwd)\n",
    "jenv = jinja2.Environment(loader=loader, trim_blocks=True, lstrip_blocks=True)\n",
    "jenv.filters['bracket_expansion']=bracket_expansion\n",
    "tmpl = jenv.get_template('filter.j2')\n",
    "conf = tmpl.render(iface_pattern='ge-0/0/[0-10]', vlan_name='300')\n",
    "print conf"
   ]
  },
  {
   "cell_type": "markdown",
   "metadata": {},
   "source": [
    "### Include directive\n",
    "#### To create Modular template"
   ]
  },
  {
   "cell_type": "code",
   "execution_count": 49,
   "metadata": {
    "collapsed": false
   },
   "outputs": [
    {
     "name": "stdout",
     "output_type": "stream",
     "text": [
      "['/Users/nitinkr/Coding/pyez-examples/templates/sshkeys/lakhan.pub', '/Users/nitinkr/Coding/pyez-examples/templates/sshkeys/ram.pub']\n"
     ]
    }
   ],
   "source": [
    "from glob import glob\n",
    "print glob(cwd+'/sshkeys/*.pub')"
   ]
  },
  {
   "cell_type": "code",
   "execution_count": 50,
   "metadata": {
    "collapsed": false
   },
   "outputs": [
    {
     "name": "stdout",
     "output_type": "stream",
     "text": [
      "['lakhan.pub', 'ram.pub']\n",
      "['lakhan', 'ram']\n"
     ]
    }
   ],
   "source": [
    "from os.path import basename, splitext\n",
    "print [basename(i) for i in glob(cwd+'/sshkeys/*.pub')]\n",
    "print [splitext(basename(i))[0] for i in glob(cwd+'/sshkeys/*.pub')]"
   ]
  },
  {
   "cell_type": "code",
   "execution_count": 51,
   "metadata": {
    "collapsed": true
   },
   "outputs": [],
   "source": [
    "def basefilename(name):\n",
    "    return splitext(basename(name))[0]\n",
    "\n",
    "# basefilename = lambda name: splitext(basename(name))[0]"
   ]
  },
  {
   "cell_type": "markdown",
   "metadata": {},
   "source": [
    "```jinja2\n",
    "system {\n",
    "    login {\n",
    "        {% for ssh_pub in sshkeyfiles %}\n",
    "        user {{ ssh_pub | basefilename }} {\n",
    "            authentication {\n",
    "                ssh-rsa \"{% include ssh_pub %}\";\n",
    "            }\n",
    "        }\n",
    "        {% endfor %}\n",
    "    }\n",
    "}\n",
    "```"
   ]
  },
  {
   "cell_type": "code",
   "execution_count": 52,
   "metadata": {
    "collapsed": false
   },
   "outputs": [
    {
     "name": "stdout",
     "output_type": "stream",
     "text": [
      "system {\n",
      "    login {\n",
      "        user lakhan {\n",
      "            authentication {\n",
      "                ssh-rsa \"ssh-rsa AAAAB3NzaC1yc2EAAAADAQABAAABAQCl2uGO4skBv30W3O6//E2h4wmagnp5F2d2ZAejG+rozy+fbAD83nD4cOg5PZfpVTmV5q3VitcG7rQlRim4Rw+669R+n06BG/FarsIv2yAV9Vz30y51tlzCThF4TQEVttKgQtdmgtenoTOnIsZHjms6zx7OyeMws4nb6kFE1eFv2A+h+FAQeIq+5bxXWpH77Wr9DrCVS6wqyDu4niv6WnxshJFKO8AZOkl51qcQznEe9J7Jz4SfgXnqGKJsJnJOGSdxK6gyRRLYLQ2S7CZIQe6Cb97nGERFSx4w9XFMWZf/RkY3o0lXOv0VC51pr5ocJYvb+IpYAiCjF0po6xMd11dh nitinkr@nitinkr-mba13\";\n",
      "            }\n",
      "        }\n",
      "        user ram {\n",
      "            authentication {\n",
      "                ssh-rsa \"ssh-rsa AAAAB3NzaC1yc2EAAAADAQABAAABAQDDHSljc8AuY2UgmZuAl5hW18UZJwzj4u1Qu6kWJ4aecK71r3Vrar65TKNisv/eOOFVHoI8690IOMHG0NUzNJH+WtaFFKhI/2yX6Q3UJ8Chs3FOIfRvMtORvgrN5JJfKREmRVEWVdzWqHDGs6DyXDiL8h0XsBQmCJcuMS5JCi+GggYr/ysMOzLXWkjgZasj0AcVZrGkaTV0R1Ec7SV/IZGMZC1RelDiaTiMPdsI7LFV6jnZzqG9IZmMHwDLAocO/HN2nnGUWGBn172h8ah0fSuTnA8Wm5AnD+/3k/N5tHOjMfRU+P755FWkC+TwPuXrtqV8kh4ZBWWr5CHUtflzNmMn nitinkr@nitinkr-mba13\";\n",
      "            }\n",
      "        }\n",
      "    }\n",
      "}\n"
     ]
    }
   ],
   "source": [
    "import jinja2\n",
    "\n",
    "loader = jinja2.FileSystemLoader(cwd)\n",
    "jenv = jinja2.Environment(loader=loader, trim_blocks=True, lstrip_blocks=True)\n",
    "jenv.filters['basefilename']=basefilename\n",
    "tmpl = jenv.get_template('users.j2')\n",
    "print tmpl.render(sshkeyfiles=glob('sshkeys/*.pub'))"
   ]
  },
  {
   "cell_type": "code",
   "execution_count": 53,
   "metadata": {
    "collapsed": false
   },
   "outputs": [
    {
     "name": "stdout",
     "output_type": "stream",
     "text": [
      "##\n",
      "## This is top main file\n",
      "##\n",
      "\n",
      "interfaces { \n",
      "    {% for item in interfaces %}\n",
      "    {{ item }} {\n",
      "        description \"{{ description }}\";\n",
      "        unit 0 {\n",
      "            family {{ family }};\n",
      "        }      \n",
      "    } {% endfor %}    \n",
      "}\n",
      "##\n",
      "## including another jinja templete\n",
      "##\n",
      "{% include 'users.j2' %}\n",
      "\n",
      "##\n",
      "## thats the end\n",
      "##\n",
      "\n"
     ]
    }
   ],
   "source": [
    "with open(os.path.join(cwd, 'main.j2')) as fp:\n",
    "    print fp.read()"
   ]
  },
  {
   "cell_type": "code",
   "execution_count": 54,
   "metadata": {
    "collapsed": false
   },
   "outputs": [
    {
     "name": "stdout",
     "output_type": "stream",
     "text": [
      "##\n",
      "## This is top main file\n",
      "##\n",
      "\n",
      "interfaces { \n",
      "    ge-0/0/1 {\n",
      "        description \"MPLS interface\";\n",
      "        unit 0 {\n",
      "            family mpls;\n",
      "        }      \n",
      "    }     ge-0/0/2 {\n",
      "        description \"MPLS interface\";\n",
      "        unit 0 {\n",
      "            family mpls;\n",
      "        }      \n",
      "    }     \n",
      "}\n",
      "##\n",
      "## including another jinja templete\n",
      "##\n",
      "system {\n",
      "    login {\n",
      "        user lakhan {\n",
      "            authentication {\n",
      "                ssh-rsa \"ssh-rsa AAAAB3NzaC1yc2EAAAADAQABAAABAQCl2uGO4skBv30W3O6//E2h4wmagnp5F2d2ZAejG+rozy+fbAD83nD4cOg5PZfpVTmV5q3VitcG7rQlRim4Rw+669R+n06BG/FarsIv2yAV9Vz30y51tlzCThF4TQEVttKgQtdmgtenoTOnIsZHjms6zx7OyeMws4nb6kFE1eFv2A+h+FAQeIq+5bxXWpH77Wr9DrCVS6wqyDu4niv6WnxshJFKO8AZOkl51qcQznEe9J7Jz4SfgXnqGKJsJnJOGSdxK6gyRRLYLQ2S7CZIQe6Cb97nGERFSx4w9XFMWZf/RkY3o0lXOv0VC51pr5ocJYvb+IpYAiCjF0po6xMd11dh nitinkr@nitinkr-mba13\";\n",
      "            }\n",
      "        }\n",
      "        user ram {\n",
      "            authentication {\n",
      "                ssh-rsa \"ssh-rsa AAAAB3NzaC1yc2EAAAADAQABAAABAQDDHSljc8AuY2UgmZuAl5hW18UZJwzj4u1Qu6kWJ4aecK71r3Vrar65TKNisv/eOOFVHoI8690IOMHG0NUzNJH+WtaFFKhI/2yX6Q3UJ8Chs3FOIfRvMtORvgrN5JJfKREmRVEWVdzWqHDGs6DyXDiL8h0XsBQmCJcuMS5JCi+GggYr/ysMOzLXWkjgZasj0AcVZrGkaTV0R1Ec7SV/IZGMZC1RelDiaTiMPdsI7LFV6jnZzqG9IZmMHwDLAocO/HN2nnGUWGBn172h8ah0fSuTnA8Wm5AnD+/3k/N5tHOjMfRU+P755FWkC+TwPuXrtqV8kh4ZBWWr5CHUtflzNmMn nitinkr@nitinkr-mba13\";\n",
      "            }\n",
      "        }\n",
      "    }\n",
      "}\n",
      "##\n",
      "## thats the end\n",
      "##\n"
     ]
    }
   ],
   "source": [
    "main = jenv.get_template('main.j2')\n",
    "print main.render(sshkeyfiles=glob('sshkeys/*.pub'), interfaces=['ge-0/0/1', 'ge-0/0/2'], family='mpls', description='MPLS interface')"
   ]
  },
  {
   "cell_type": "markdown",
   "metadata": {},
   "source": [
    "### if/then/else directives"
   ]
  },
  {
   "cell_type": "code",
   "execution_count": 56,
   "metadata": {
    "collapsed": false
   },
   "outputs": [
    {
     "name": "stdout",
     "output_type": "stream",
     "text": [
      "<csv.DictReader instance at 0x104af7170>\n",
      "{'vlan_id': '100', 'vlan_name': 'Blue'} ,\n",
      "{'vlan_id': '200', 'vlan_name': 'Green'} ,\n",
      "{'vlan_id': '300', 'vlan_name': 'Yellow'} ,\n",
      "{'vlan_id': '400', 'vlan_name': 'Purple'} ,\n",
      "{'vlan_id': '500', 'vlan_name': 'Red'} ,\n"
     ]
    }
   ],
   "source": [
    "import csv\n",
    "vlans = csv.DictReader(open(os.path.join(cwd,'vlans.csv')))\n",
    "print vlans\n",
    "for i in vlans:\n",
    "    print i,','"
   ]
  },
  {
   "cell_type": "code",
   "execution_count": 57,
   "metadata": {
    "collapsed": false
   },
   "outputs": [
    {
     "name": "stdout",
     "output_type": "stream",
     "text": [
      "\n",
      "vlans {\n",
      "    Blue {\n",
      "        vlan-id 100;\n",
      "    }\n",
      "    Green {\n",
      "        vlan-id 200;\n",
      "    }\n",
      "    Yellow {\n",
      "        vlan-id 300;\n",
      "    }\n",
      "    Purple {\n",
      "        vlan-id 400;\n",
      "    }\n",
      "    Red {\n",
      "        vlan-id 500;\n",
      "    }\n",
      "}\n"
     ]
    }
   ],
   "source": [
    "import jinja2\n",
    "\n",
    "vlans = csv.DictReader(open(os.path.join(cwd,'vlans.csv')))\n",
    "loader = jinja2.FileSystemLoader(cwd)\n",
    "jenv = jinja2.Environment(loader=loader, trim_blocks=True, lstrip_blocks=True)\n",
    "tmpl = jenv.get_template('main_vlans.conf')\n",
    "print tmpl.render(vlan_list=vlans)"
   ]
  },
  {
   "cell_type": "code",
   "execution_count": 58,
   "metadata": {
    "collapsed": false
   },
   "outputs": [
    {
     "name": "stdout",
     "output_type": "stream",
     "text": [
      "\n",
      "vlans {\n",
      "    delete: Blue\n",
      "    delete: Green\n",
      "    delete: Yellow\n",
      "    delete: Purple\n",
      "    delete: Red\n",
      "}\n"
     ]
    }
   ],
   "source": [
    "vlans = csv.DictReader(open(os.path.join(cwd,'vlans.csv')))\n",
    "print tmpl.render(vlan_list=vlans, state='absent')"
   ]
  },
  {
   "cell_type": "markdown",
   "metadata": {},
   "source": [
    "### This presentation from AnsibleFest San Francisco 2015 focused on how Riot Games utilizes Ansible, Config templates  and Juniper’s Py-EZ."
   ]
  },
  {
   "cell_type": "code",
   "execution_count": 59,
   "metadata": {
    "collapsed": false
   },
   "outputs": [
    {
     "data": {
      "text/html": [
       "<iframe src=\"http://fast.wistia.net/embed/iframe/qkho0rgeyc\" width=900 height=500></iframe>"
      ],
      "text/plain": [
       "<IPython.core.display.HTML object>"
      ]
     },
     "execution_count": 59,
     "metadata": {},
     "output_type": "execute_result"
    }
   ],
   "source": [
    "from IPython.display import HTML\n",
    "HTML('<iframe src=\"http://fast.wistia.net/embed/iframe/qkho0rgeyc\" width=900 height=500></iframe>')"
   ]
  },
  {
   "cell_type": "code",
   "execution_count": 60,
   "metadata": {
    "collapsed": false
   },
   "outputs": [
    {
     "data": {
      "text/html": [
       "\n",
       "        <iframe\n",
       "            width=\"900\"\n",
       "            height=\"500\"\n",
       "            src=\"https://www.youtube.com/embed/PSgSjTeqRX0?start=450\"\n",
       "            frameborder=\"0\"\n",
       "            allowfullscreen\n",
       "        ></iframe>\n",
       "        "
      ],
      "text/plain": [
       "<IPython.lib.display.YouTubeVideo at 0x104af0750>"
      ]
     },
     "execution_count": 60,
     "metadata": {},
     "output_type": "execute_result"
    }
   ],
   "source": [
    "from IPython.display import YouTubeVideo\n",
    "YouTubeVideo('PSgSjTeqRX0', start=450, width=900, height=500)"
   ]
  },
  {
   "cell_type": "code",
   "execution_count": 61,
   "metadata": {
    "collapsed": false
   },
   "outputs": [
    {
     "data": {
      "text/html": [
       "\n",
       "        <iframe\n",
       "            width=\"900\"\n",
       "            height=\"500\"\n",
       "            src=\"https://www.youtube.com/embed/Gk5KKozJmz8?start=156\"\n",
       "            frameborder=\"0\"\n",
       "            allowfullscreen\n",
       "        ></iframe>\n",
       "        "
      ],
      "text/plain": [
       "<IPython.lib.display.YouTubeVideo at 0x104af01d0>"
      ]
     },
     "execution_count": 61,
     "metadata": {},
     "output_type": "execute_result"
    }
   ],
   "source": [
    "from IPython.display import YouTubeVideo\n",
    "YouTubeVideo('Gk5KKozJmz8', start=156, width=900, height=500)"
   ]
  }
 ],
 "metadata": {
  "kernelspec": {
   "display_name": "Python 2",
   "language": "python",
   "name": "python2"
  },
  "language_info": {
   "codemirror_mode": {
    "name": "ipython",
    "version": 2
   },
   "file_extension": ".py",
   "mimetype": "text/x-python",
   "name": "python",
   "nbconvert_exporter": "python",
   "pygments_lexer": "ipython2",
   "version": "2.7.8"
  }
 },
 "nbformat": 4,
 "nbformat_minor": 0
}
