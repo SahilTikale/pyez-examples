{
 "cells": [
  {
   "cell_type": "code",
   "execution_count": 35,
   "metadata": {
    "collapsed": false
   },
   "outputs": [
    {
     "name": "stdout",
     "output_type": "stream",
     "text": [
      "ge-0/0/1\n"
     ]
    }
   ],
   "source": [
    "interface_name = 'ge-0/0/1'\n",
    "print interface_name"
   ]
  },
  {
   "cell_type": "markdown",
   "metadata": {},
   "source": [
    "### Python List"
   ]
  },
  {
   "cell_type": "code",
   "execution_count": 28,
   "metadata": {
    "collapsed": true
   },
   "outputs": [],
   "source": [
    "protocols = ['mpls', 'bgp', 'isis', 'ospf']"
   ]
  },
  {
   "cell_type": "code",
   "execution_count": 36,
   "metadata": {
    "collapsed": false
   },
   "outputs": [
    {
     "name": "stdout",
     "output_type": "stream",
     "text": [
      "mpls\n",
      "bgp\n",
      "isis\n",
      "ospf\n"
     ]
    }
   ],
   "source": [
    "for prot in protocols:\n",
    "    print prot"
   ]
  },
  {
   "cell_type": "markdown",
   "metadata": {},
   "source": [
    "### Python Dictionary"
   ]
  },
  {
   "cell_type": "code",
   "execution_count": 31,
   "metadata": {
    "collapsed": false
   },
   "outputs": [
    {
     "name": "stdout",
     "output_type": "stream",
     "text": [
      "{'ceo': 'Rami Rahim', 'company': 'Juniper', 'domain': 'Networking'}\n"
     ]
    }
   ],
   "source": [
    "data = {'company': 'Juniper',\n",
    "       'ceo': 'Rami Rahim',\n",
    "       'domain': 'Networking'}\n",
    "\n",
    "print data"
   ]
  },
  {
   "cell_type": "code",
   "execution_count": 33,
   "metadata": {
    "collapsed": false
   },
   "outputs": [
    {
     "name": "stdout",
     "output_type": "stream",
     "text": [
      "ceo  ->  Rami Rahim\n",
      "company  ->  Juniper\n",
      "domain  ->  Networking\n"
     ]
    }
   ],
   "source": [
    "for k,v in data.items():\n",
    "    print k, ' -> ', v"
   ]
  },
  {
   "cell_type": "code",
   "execution_count": 37,
   "metadata": {
    "collapsed": false
   },
   "outputs": [
    {
     "name": "stdout",
     "output_type": "stream",
     "text": [
      "{'vlan_name': '200', 'iface_name': 'ge-0/0/1'}\n"
     ]
    }
   ],
   "source": [
    "data = {'iface_name':'ge-0/0/1', 'vlan_name':'200'}\n",
    "print data"
   ]
  },
  {
   "cell_type": "markdown",
   "metadata": {},
   "source": [
    "# YAML\n",
    "\n",
    "### YAML is a human friendly data serialization standard for all programming languages. It is ideal for storing object tree.\n",
    "\n",
    "### Python programmers are generally big fans of YAML, because of the use of indentation, rather than bracketed syntax, to indicate levels.\n",
    "\n",
    "### A markup language is a language that annotates text so that the computer can manipulate the text.\n"
   ]
  },
  {
   "cell_type": "markdown",
   "metadata": {},
   "source": [
    "```yaml\n",
    "---\n",
    "# An employee record\n",
    "name: Example Developer \n",
    "job: Developer \n",
    "skill: Elite \n",
    "employed: True \n",
    "foods:     \n",
    "    - Apple     \n",
    "    - Orange     \n",
    "    - Strawberry     \n",
    "    - Mango \n",
    "languages:     \n",
    "    ruby: Elite     \n",
    "    python: Elite     \n",
    "    dotnet: Lame\n",
    "```"
   ]
  },
  {
   "cell_type": "markdown",
   "metadata": {},
   "source": [
    "#### Thumb rule to write YAML: Proper indentation. "
   ]
  },
  {
   "cell_type": "markdown",
   "metadata": {},
   "source": [
    "So what are the benefits of YAML:\n",
    "\n",
    "Portable between programming languages:\n",
    "\n",
    "YAML emitters and parsers for many popular languages written in the pure native language itself exist, making it portable in a self-contained manner. \n",
    "YAML representations of application information will be consistent and portable between various programming environments\n",
    "\n",
    "Well known libraries to play with YAML in programming language:\n",
    "C/C++:   \n",
    "- libyaml       \t# \"C\" Fast YAML 1.1 \n",
    "Ruby:   \n",
    "- Psych         \t# libyaml wrapper (in Ruby core for 1.9.2)   \n",
    "- RbYaml        \t# YAML 1.1 (PyYaml Port) binding   \n",
    "Python:   \n",
    "- PyYaml        \t# YAML 1.1, pure python and libyaml binding   \n",
    "- PySyck        \t# YAML 1.0, syck binding   \n",
    "Java:   \n",
    "- JvYaml        \t# Java port of RbYaml   \n",
    "Perl Modules:   \n",
    "- YAML          \t# Pure Perl YAML Module   \n",
    "- YAML::Syck    \t# Binding to libsyck   \n",
    "- PlYaml        \t# Perl port of PyYaml implementation\n",
    "PHP:   \n",
    "- php-yaml      \t# libyaml bindings (YAML 1.1)   \n",
    "- syck          \t# syck bindings (YAML 1.0)   \n"
   ]
  },
  {
   "cell_type": "markdown",
   "metadata": {},
   "source": [
    "### Another example"
   ]
  },
  {
   "cell_type": "markdown",
   "metadata": {},
   "source": [
    "```yaml\n",
    "---\n",
    "name: Juniper Networks \n",
    "CEO: Rami Rahim\n",
    "Headquarter: Sunnyvale\n",
    "Development:     \n",
    "    - Sunnyvale\n",
    "    - Bangalore\n",
    "    - Beijing\n",
    "Sales:     \n",
    "    - Sydeny\n",
    "    - Mumbai\n",
    "```"
   ]
  },
  {
   "cell_type": "code",
   "execution_count": 48,
   "metadata": {
    "collapsed": false
   },
   "outputs": [
    {
     "data": {
      "text/plain": [
       "{'CEO': 'Rami Rahim',\n",
       " 'Development': ['Sunnyvale', 'Bangalore', 'Beijing'],\n",
       " 'Headquarter': 'Sunnyvale',\n",
       " 'Sales': ['Sydeny', 'Mumbai'],\n",
       " 'name': 'Juniper Networks'}"
      ]
     },
     "execution_count": 48,
     "metadata": {},
     "output_type": "execute_result"
    }
   ],
   "source": [
    "import yaml\n",
    "\n",
    "data = \"\"\"\n",
    "---\n",
    "name: Juniper Networks \n",
    "CEO: Rami Rahim\n",
    "Headquarter: Sunnyvale\n",
    "Development:     \n",
    "    - Sunnyvale\n",
    "    - Bangalore\n",
    "    - Beijing\n",
    "Sales:     \n",
    "    - Sydeny\n",
    "    - Mumbai\n",
    "\"\"\"\n",
    "\n",
    "yaml.load(data)"
   ]
  },
  {
   "cell_type": "code",
   "execution_count": 54,
   "metadata": {
    "collapsed": false
   },
   "outputs": [
    {
     "data": {
      "text/plain": [
       "[['pineapple', 'coconut'], ['umbrella', 'raincoat']]"
      ]
     },
     "execution_count": 54,
     "metadata": {},
     "output_type": "execute_result"
    }
   ],
   "source": [
    "data = \"\"\"\n",
    "---\n",
    "-\n",
    "    - pineapple   \n",
    "    - coconut \n",
    "-\n",
    "    - umbrella   \n",
    "    - raincoat\n",
    "\"\"\"\n",
    "yaml.load(data)"
   ]
  },
  {
   "cell_type": "code",
   "execution_count": 55,
   "metadata": {
    "collapsed": false
   },
   "outputs": [
    {
     "data": {
      "text/plain": [
       "{'Joey': {'age': 22, 'sex': 'M'}, 'Laura': {'age': 24, 'sex': 'F'}}"
      ]
     },
     "execution_count": 55,
     "metadata": {},
     "output_type": "execute_result"
    }
   ],
   "source": [
    "\n",
    "data = \"\"\"\n",
    "---\n",
    "Joey:   \n",
    "    age: 22   \n",
    "    sex: M \n",
    "Laura:   \n",
    "    age: 24   \n",
    "    sex: F\n",
    "\"\"\"\n",
    "yaml.load(data)"
   ]
  },
  {
   "cell_type": "code",
   "execution_count": 60,
   "metadata": {
    "collapsed": false
   },
   "outputs": [
    {
     "data": {
      "text/plain": [
       "{'bill-to': {'city': 'East Centerville',\n",
       "  'state': 'KS',\n",
       "  'street': '123 Tornado Alley\\nSuite 16\\n'},\n",
       " 'customer': {'family_name': 'Gale', 'first_name': 'Dorothy'},\n",
       " 'date': datetime.date(2012, 8, 6),\n",
       " 'items': [{'descrip': 'Water Bucket (Filled)',\n",
       "   'part_no': 'A4786',\n",
       "   'price': 1.47,\n",
       "   'quantity': 4},\n",
       "  {'descrip': 'High Heeled \"Ruby\" Slippers',\n",
       "   'part_no': 'E1628',\n",
       "   'price': 133.7,\n",
       "   'quantity': 1,\n",
       "   'size': 8}],\n",
       " 'receipt': 'Oz-Ware Purchase Invoice',\n",
       " 'ship-to': {'city': 'East Centerville',\n",
       "  'state': 'KS',\n",
       "  'street': '123 Tornado Alley\\nSuite 16\\n'},\n",
       " 'specialDelivery': 'Follow the Yellow Brick Road to the Emerald City. Pay no attention to the man behind the curtain.\\n'}"
      ]
     },
     "execution_count": 60,
     "metadata": {},
     "output_type": "execute_result"
    }
   ],
   "source": [
    "data = \"\"\"\n",
    "---\n",
    "receipt:     Oz-Ware Purchase Invoice\n",
    "date:        2012-08-06\n",
    "customer:\n",
    "    first_name:   Dorothy\n",
    "    family_name:  Gale\n",
    "\n",
    "items:\n",
    "    - part_no:   A4786\n",
    "      descrip:   Water Bucket (Filled)\n",
    "      price:     1.47\n",
    "      quantity:  4\n",
    "\n",
    "    - part_no:   E1628\n",
    "      descrip:   High Heeled \"Ruby\" Slippers\n",
    "      size:      8\n",
    "      price:     133.7\n",
    "      quantity:  1\n",
    "\n",
    "bill-to:  &id001\n",
    "    street: |\n",
    "            123 Tornado Alley\n",
    "            Suite 16\n",
    "    city:   East Centerville\n",
    "    state:  KS\n",
    "\n",
    "ship-to:  *id001\n",
    "\n",
    "specialDelivery:  >\n",
    "    Follow the Yellow Brick\n",
    "    Road to the Emerald City.\n",
    "    Pay no attention to the\n",
    "    man behind the curtain.\n",
    "...\n",
    "\"\"\"\n",
    "yaml.load(data)"
   ]
  },
  {
   "cell_type": "code",
   "execution_count": 62,
   "metadata": {
    "collapsed": false
   },
   "outputs": [
    {
     "data": {
      "text/plain": [
       "[{'step': {'instrument': 'Lasik 2000',\n",
       "   'pulseDuration': 12,\n",
       "   'pulseEnergy': 5.4,\n",
       "   'repetition': 1000,\n",
       "   'spotSize': '1mm'}},\n",
       " {'step': {'instrument': 'Lasik 2000',\n",
       "   'pulseDuration': 10,\n",
       "   'pulseEnergy': 5.0,\n",
       "   'repetition': 500,\n",
       "   'spotSize': '2mm'}},\n",
       " {'step': {'instrument': 'Lasik 2000',\n",
       "   'pulseDuration': 12,\n",
       "   'pulseEnergy': 5.4,\n",
       "   'repetition': 1000,\n",
       "   'spotSize': '1mm'}},\n",
       " {'step': {'instrument': 'Lasik 2000',\n",
       "   'pulseDuration': 10,\n",
       "   'pulseEnergy': 5.0,\n",
       "   'repetition': 500,\n",
       "   'spotSize': '2mm'}},\n",
       " {'step': {'instrument': 'Lasik 2000',\n",
       "   'pulseDuration': 12,\n",
       "   'pulseEnergy': 5.4,\n",
       "   'repetition': 1000,\n",
       "   'spotSize': '2mm'}}]"
      ]
     },
     "execution_count": 62,
     "metadata": {},
     "output_type": "execute_result"
    }
   ],
   "source": [
    "data = \"\"\"\n",
    "---\n",
    "- step:  &id001                  # defines anchor label &id001\n",
    "    instrument:      Lasik 2000\n",
    "    pulseEnergy:     5.4\n",
    "    pulseDuration:   12\n",
    "    repetition:      1000\n",
    "    spotSize:        1mm\n",
    "\n",
    "- step: &id002\n",
    "    instrument:      Lasik 2000\n",
    "    pulseEnergy:     5.0\n",
    "    pulseDuration:   10\n",
    "    repetition:      500\n",
    "    spotSize:        2mm\n",
    "- step: *id001                   # refers to the first step (with anchor &id001)\n",
    "- step: *id002                   # refers to the second step\n",
    "- step: \n",
    "    <<: *id001\n",
    "    spotSize: 2mm             # redefines just this key, refers rest from &id001\n",
    "\"\"\"\n",
    "yaml.load(data)"
   ]
  },
  {
   "cell_type": "markdown",
   "metadata": {},
   "source": [
    "## Jinja2"
   ]
  },
  {
   "cell_type": "markdown",
   "metadata": {},
   "source": [
    "### Junos sample config"
   ]
  },
  {
   "cell_type": "code",
   "execution_count": 59,
   "metadata": {
    "collapsed": false
   },
   "outputs": [
    {
     "name": "stdout",
     "output_type": "stream",
     "text": [
      "Hello World!!\n"
     ]
    }
   ],
   "source": [
    "from jinja2 import Template\n",
    "t = Template(\"Hello {{ data }}!!\")\n",
    "print t.render(data='World')"
   ]
  },
  {
   "cell_type": "markdown",
   "metadata": {},
   "source": [
    "```text\n",
    "interfaces {\n",
    "    interface ge-0/0/1 {\n",
    "        unit 0 {\n",
    "            family ethernet-switching {\n",
    "                port-mode access;\n",
    "                replace:\n",
    "                vlan {\n",
    "                    member 200;\n",
    "               }\n",
    "           }\n",
    "       }\n",
    "    } \n",
    "}\n",
    "```\n"
   ]
  },
  {
   "cell_type": "markdown",
   "metadata": {},
   "source": [
    "### jinja2 template"
   ]
  },
  {
   "cell_type": "markdown",
   "metadata": {},
   "source": [
    "```jinja2\n",
    "interfaces {\n",
    "    interface {{ iface_name }} {\n",
    "        unit 0 {\n",
    "            family ethernet-switching {\n",
    "                port-mode access;\n",
    "                replace:\n",
    "                vlan {\n",
    "                    member {{ vlan_name }};\n",
    "               }\n",
    "           }\n",
    "       }\n",
    "    } \n",
    "}\n",
    "```\n"
   ]
  },
  {
   "cell_type": "code",
   "execution_count": null,
   "metadata": {
    "collapsed": false
   },
   "outputs": [],
   "source": [
    "import jinja2\n",
    "template = \"\"\"interfaces {\n",
    "    interface {{ iface_name }} {\n",
    "        unit 0 {\n",
    "            family ethernet-switching {\n",
    "                port-mode access;\n",
    "                replace:\n",
    "                vlan {\n",
    "                    member {{ vlan_name }};\n",
    "               }\n",
    "           }\n",
    "       }\n",
    "    } \n",
    "}\"\"\"\n",
    "tmpl = jinja2.Template(template)\n",
    "conf = tmpl.render(iface_name='ge-0/0/1', vlan_name='200')\n",
    "print conf"
   ]
  },
  {
   "cell_type": "code",
   "execution_count": null,
   "metadata": {
    "collapsed": false
   },
   "outputs": [],
   "source": [
    "import jinja2\n",
    "template = \"\"\"interfaces {\n",
    "    interface {{ iface_name }} {\n",
    "        unit 0 {\n",
    "            family ethernet-switching {\n",
    "                port-mode access;\n",
    "                replace:\n",
    "                vlan {\n",
    "                    member {{ vlan_name }};\n",
    "               }\n",
    "           }\n",
    "       }\n",
    "    } \n",
    "}\"\"\"\n",
    "tmpl = jinja2.Template(template)\n",
    "conf = tmpl.render({'iface_name':'ge-0/0/1', 'vlan_name':'200'})\n",
    "print conf"
   ]
  },
  {
   "cell_type": "code",
   "execution_count": null,
   "metadata": {
    "collapsed": false
   },
   "outputs": [],
   "source": [
    "import jinja2\n",
    "\n",
    "# tmpl = jinja2.Template(open('/Users/nitinkr/demos/PyEZ/templates/1_temp.j2').read())\n",
    "\n",
    "loader = jinja2.FileSystemLoader('/Users/nitinkr/demos/PyEZ/templates')\n",
    "jenv = jinja2.Environment(loader=loader, trim_blocks=True, lstrip_blocks=True)\n",
    "tmpl = jenv.get_template('1_temp.j2')\n",
    "conf = tmpl.render(iface_name='ge-0/0/5', vlan_name='300')\n",
    "print conf"
   ]
  },
  {
   "cell_type": "markdown",
   "metadata": {},
   "source": [
    "#### To know more about trim_blocks, lstrip_blocks\n",
    "\n",
    "http://jinja.pocoo.org/docs/dev/templates/#whitespace-control"
   ]
  },
  {
   "cell_type": "code",
   "execution_count": null,
   "metadata": {
    "collapsed": false
   },
   "outputs": [],
   "source": [
    "jinja2.Environment?"
   ]
  },
  {
   "cell_type": "markdown",
   "metadata": {},
   "source": [
    "### Loop inside Jinja Template\n",
    "\n",
    "```jinja2\n",
    "interfaces {\n",
    "    {% for item in interfaces %}\n",
    "    {{ item }} {\n",
    "        unit 0 {\n",
    "            family ethernet-switching {\n",
    "                port-mode access;\n",
    "                replace:\n",
    "                vlan {\n",
    "                    member {{ vlan_name }};\n",
    "               }\n",
    "           }\n",
    "       } \n",
    "    } {% endfor %}    \n",
    "}\n",
    "```"
   ]
  },
  {
   "cell_type": "code",
   "execution_count": null,
   "metadata": {
    "collapsed": false
   },
   "outputs": [],
   "source": [
    "import jinja2\n",
    "template = \"\"\"interfaces {\n",
    "    {% for item in interfaces %}\n",
    "    {{ item }} {\n",
    "        unit 0 {\n",
    "            family ethernet-switching {\n",
    "                port-mode access;\n",
    "                replace:\n",
    "                vlan {\n",
    "                    member {{ vlan_name }};\n",
    "               }\n",
    "           }\n",
    "       } \n",
    "    } {% endfor %}    \n",
    "}\"\"\"\n",
    "tmpl = jinja2.Template(template)\n",
    "conf = tmpl.render(interfaces=['ge-0/0/1', 'ge-0/0/2'], vlan_name='300')\n",
    "print conf"
   ]
  },
  {
   "cell_type": "markdown",
   "metadata": {},
   "source": [
    "### Filter in Template"
   ]
  },
  {
   "cell_type": "code",
   "execution_count": null,
   "metadata": {
    "collapsed": true
   },
   "outputs": [],
   "source": [
    "jenv.filters?"
   ]
  },
  {
   "cell_type": "code",
   "execution_count": null,
   "metadata": {
    "collapsed": false
   },
   "outputs": [],
   "source": [
    "import jinja2\n",
    "template = \"\"\"interfaces {\n",
    "    {% for item in interfaces %}\n",
    "    {{ item }} {\n",
    "        unit 0 {\n",
    "            family ethernet-switching {\n",
    "                port-mode {{ mode | upper }};\n",
    "                replace:\n",
    "                vlan {\n",
    "                    member {{ vlan_name }};\n",
    "               }\n",
    "           }\n",
    "       } \n",
    "    } {% endfor %}    \n",
    "}\"\"\"\n",
    "tmpl = jinja2.Template(template)\n",
    "conf = tmpl.render(interfaces=['ge-0/0/1', 'ge-0/0/2'], vlan_name='300', mode='access')\n",
    "print conf"
   ]
  },
  {
   "cell_type": "code",
   "execution_count": null,
   "metadata": {
    "collapsed": false
   },
   "outputs": [],
   "source": [
    "jenv.filters"
   ]
  },
  {
   "cell_type": "code",
   "execution_count": null,
   "metadata": {
    "collapsed": false
   },
   "outputs": [],
   "source": [
    "from bracket_expansion import bracket_expansion\n",
    "jenv.filters['bracket_expansion']=bracket_expansion\n",
    "for i in bracket_expansion('ge-0/0/[0-5]'):\n",
    "    print i"
   ]
  },
  {
   "cell_type": "code",
   "execution_count": null,
   "metadata": {
    "collapsed": true
   },
   "outputs": [],
   "source": [
    "%cat "
   ]
  },
  {
   "cell_type": "code",
   "execution_count": null,
   "metadata": {
    "collapsed": false
   },
   "outputs": [],
   "source": [
    "import jinja2\n",
    "template = \"\"\"interfaces {\n",
    "    {% for item in iface_pattern | bracket_expansion %}\n",
    "    {{ item }} {\n",
    "        unit 0 {\n",
    "            family ethernet-switching {\n",
    "                port-mode access;\n",
    "                replace:\n",
    "                vlan {\n",
    "                    member {{ vlan_name }};\n",
    "               }\n",
    "           }\n",
    "       } \n",
    "    } {% endfor %}    \n",
    "}\"\"\"\n",
    "loader = jinja2.FileSystemLoader('/Users/nitinkr/demos/PyEZ/templates')\n",
    "jenv = jinja2.Environment(loader=loader, trim_blocks=True, lstrip_blocks=True)\n",
    "jenv.filters['bracket_expansion']=bracket_expansion\n",
    "tmpl = jenv.get_template('filter.j2')\n",
    "conf = tmpl.render(iface_pattern='ge-0/0/[0-5]', vlan_name='300')\n",
    "print conf"
   ]
  },
  {
   "cell_type": "markdown",
   "metadata": {},
   "source": [
    "### Include directive\n",
    "#### To create Modular template"
   ]
  },
  {
   "cell_type": "code",
   "execution_count": null,
   "metadata": {
    "collapsed": false
   },
   "outputs": [],
   "source": [
    "from glob import glob\n",
    "print glob('/Users/nitinkr/demos/PyEZ/templates/sshkeys/*.pub')"
   ]
  },
  {
   "cell_type": "code",
   "execution_count": null,
   "metadata": {
    "collapsed": false
   },
   "outputs": [],
   "source": [
    "from os.path import basename, splitext\n",
    "print [basename(i) for i in glob('/Users/nitinkr/demos/PyEZ/templates/sshkeys/*.pub')]\n",
    "print [splitext(basename(i))[0] for i in glob('/Users/nitinkr/demos/PyEZ/templates/sshkeys/*.pub')]"
   ]
  },
  {
   "cell_type": "code",
   "execution_count": null,
   "metadata": {
    "collapsed": true
   },
   "outputs": [],
   "source": [
    "def basefilename(name):\n",
    "    return splitext(basename(name))[0]\n",
    "\n",
    "# basefilename = lambda name: splitext(basename(name))[0]"
   ]
  },
  {
   "cell_type": "markdown",
   "metadata": {},
   "source": [
    "```jinja2\n",
    "system {\n",
    "    login {\n",
    "        {% for ssh_pub in sshkeyfiles %}\n",
    "        user {{ ssh_pub | basefilename }} {\n",
    "            authentication {\n",
    "                ssh-rsa \"{% include ssh_pub %}\";\n",
    "            }\n",
    "        }\n",
    "        {% endfor %}\n",
    "    }\n",
    "}\n",
    "```"
   ]
  },
  {
   "cell_type": "code",
   "execution_count": null,
   "metadata": {
    "collapsed": false
   },
   "outputs": [],
   "source": [
    "import jinja2\n",
    "\n",
    "loader = jinja2.FileSystemLoader('/Users/nitinkr/demos/PyEZ/templates')\n",
    "jenv = jinja2.Environment(loader=loader, trim_blocks=True, lstrip_blocks=True)\n",
    "jenv.filters['basefilename']=basefilename\n",
    "tmpl = jenv.get_template('users.j2')\n",
    "print tmpl.render(sshkeyfiles=glob('sshkeys/*.pub'))"
   ]
  },
  {
   "cell_type": "code",
   "execution_count": null,
   "metadata": {
    "collapsed": false
   },
   "outputs": [],
   "source": [
    "%cat /Users/nitinkr/demos/PyEZ/templates/main.j2"
   ]
  },
  {
   "cell_type": "code",
   "execution_count": null,
   "metadata": {
    "collapsed": false
   },
   "outputs": [],
   "source": [
    "main = jenv.get_template('main.j2')\n",
    "print main.render(sshkeyfiles=glob('sshkeys/*.pub'), interfaces=['ge-0/0/1', 'ge-0/0/2'], family='mpls', description='MPLS interface')"
   ]
  },
  {
   "cell_type": "markdown",
   "metadata": {},
   "source": [
    "### if/then/else directives"
   ]
  },
  {
   "cell_type": "code",
   "execution_count": null,
   "metadata": {
    "collapsed": false
   },
   "outputs": [],
   "source": [
    "import csv\n",
    "vlans = csv.DictReader(open('/Users/nitinkr/demos/PyEZ/templates/vlans.csv'))\n",
    "print vlans\n",
    "for i in vlans:\n",
    "    print i,','"
   ]
  },
  {
   "cell_type": "code",
   "execution_count": null,
   "metadata": {
    "collapsed": false
   },
   "outputs": [],
   "source": [
    "import jinja2\n",
    "\n",
    "loader = jinja2.FileSystemLoader('/Users/nitinkr/demos/PyEZ/templates')\n",
    "jenv = jinja2.Environment(loader=loader, trim_blocks=True, lstrip_blocks=True)\n",
    "tmpl = jenv.get_template('main_vlans.conf')\n",
    "print tmpl.render(vlan_list=vlans)"
   ]
  },
  {
   "cell_type": "code",
   "execution_count": null,
   "metadata": {
    "collapsed": false
   },
   "outputs": [],
   "source": [
    "vlans = csv.DictReader(open('/Users/nitinkr/demos/PyEZ/templates/vlans.csv'))\n",
    "print tmpl.render(vlan_list=vlans, state='absent')"
   ]
  },
  {
   "cell_type": "markdown",
   "metadata": {},
   "source": [
    "### This presentation from AnsibleFest San Francisco 2015 focused on how Riot Games utilizes Ansible, Config templates  and Juniper’s Py-EZ."
   ]
  },
  {
   "cell_type": "code",
   "execution_count": 41,
   "metadata": {
    "collapsed": false
   },
   "outputs": [
    {
     "data": {
      "text/html": [
       "<iframe src=\"http://fast.wistia.net/embed/iframe/qkho0rgeyc\" width=900 height=500></iframe>"
      ],
      "text/plain": [
       "<IPython.core.display.HTML object>"
      ]
     },
     "execution_count": 41,
     "metadata": {},
     "output_type": "execute_result"
    }
   ],
   "source": [
    "from IPython.display import HTML\n",
    "HTML('<iframe src=\"http://fast.wistia.net/embed/iframe/qkho0rgeyc\" width=900 height=500></iframe>')"
   ]
  },
  {
   "cell_type": "code",
   "execution_count": 39,
   "metadata": {
    "collapsed": false
   },
   "outputs": [
    {
     "data": {
      "text/html": [
       "\n",
       "        <iframe\n",
       "            width=\"900\"\n",
       "            height=\"500\"\n",
       "            src=\"https://www.youtube.com/embed/PSgSjTeqRX0?start=450\"\n",
       "            frameborder=\"0\"\n",
       "            allowfullscreen\n",
       "        ></iframe>\n",
       "        "
      ],
      "text/plain": [
       "<IPython.lib.display.YouTubeVideo at 0x105468250>"
      ]
     },
     "execution_count": 39,
     "metadata": {},
     "output_type": "execute_result"
    }
   ],
   "source": [
    "from IPython.display import YouTubeVideo\n",
    "YouTubeVideo('PSgSjTeqRX0', start=450, width=900, height=500)"
   ]
  },
  {
   "cell_type": "code",
   "execution_count": 40,
   "metadata": {
    "collapsed": false
   },
   "outputs": [
    {
     "data": {
      "text/html": [
       "\n",
       "        <iframe\n",
       "            width=\"900\"\n",
       "            height=\"500\"\n",
       "            src=\"https://www.youtube.com/embed/Gk5KKozJmz8?start=156\"\n",
       "            frameborder=\"0\"\n",
       "            allowfullscreen\n",
       "        ></iframe>\n",
       "        "
      ],
      "text/plain": [
       "<IPython.lib.display.YouTubeVideo at 0x1054681d0>"
      ]
     },
     "execution_count": 40,
     "metadata": {},
     "output_type": "execute_result"
    }
   ],
   "source": [
    "from IPython.display import YouTubeVideo\n",
    "YouTubeVideo('Gk5KKozJmz8', start=156, width=900, height=500)"
   ]
  },
  {
   "cell_type": "code",
   "execution_count": null,
   "metadata": {
    "collapsed": true
   },
   "outputs": [],
   "source": []
  }
 ],
 "metadata": {
  "kernelspec": {
   "display_name": "Python 2",
   "language": "python",
   "name": "python2"
  },
  "language_info": {
   "codemirror_mode": {
    "name": "ipython",
    "version": 2
   },
   "file_extension": ".py",
   "mimetype": "text/x-python",
   "name": "python",
   "nbconvert_exporter": "python",
   "pygments_lexer": "ipython2",
   "version": "2.7.8"
  }
 },
 "nbformat": 4,
 "nbformat_minor": 0
}
